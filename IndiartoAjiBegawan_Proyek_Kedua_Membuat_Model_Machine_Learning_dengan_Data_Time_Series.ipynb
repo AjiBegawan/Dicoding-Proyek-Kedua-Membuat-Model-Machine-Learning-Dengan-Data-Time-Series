{
  "nbformat": 4,
  "nbformat_minor": 0,
  "metadata": {
    "colab": {
      "provenance": [],
      "collapsed_sections": []
    },
    "kernelspec": {
      "name": "python3",
      "display_name": "Python 3"
    },
    "language_info": {
      "name": "python"
    }
  },
  "cells": [
    {
      "cell_type": "markdown",
      "source": [
        "# Identitas Diri\n",
        "Nama : Indiarto Aji Begawan \\\n",
        "Email : indiartoaji13@gmail.com \\\n",
        "Learning Path : Belajar Pengembangan Machine Learning \\\n",
        "Materi : Proyek Kedua : Membuat Model Machine Learning dengan Data Time Series \\\n"
      ],
      "metadata": {
        "id": "K8AXmA5qFpwY"
      }
    },
    {
      "cell_type": "markdown",
      "source": [
        "# Library"
      ],
      "metadata": {
        "id": "IUVKjsrMJ_FA"
      }
    },
    {
      "cell_type": "code",
      "execution_count": 43,
      "metadata": {
        "id": "XJkYgc0fFifH"
      },
      "outputs": [],
      "source": [
        "import numpy as np\n",
        "import pandas as pd\n",
        "import tensorflow as tf\n",
        "import matplotlib.pyplot as plt\n",
        "\n",
        "from keras.models import Sequential\n",
        "from keras.layers import Dense, LSTM, GRU\n",
        "from sklearn.preprocessing import MinMaxScaler\n",
        "from sklearn.model_selection import train_test_split"
      ]
    },
    {
      "cell_type": "markdown",
      "source": [
        "# Stock Prediction"
      ],
      "metadata": {
        "id": "-iMCNmT6GMd5"
      }
    },
    {
      "cell_type": "code",
      "source": [
        "df = pd.read_csv('IBM.csv')\n",
        "df"
      ],
      "metadata": {
        "colab": {
          "base_uri": "https://localhost:8080/",
          "height": 424
        },
        "id": "fRO82g7qGYSM",
        "outputId": "7a93c954-5f5e-496a-ce33-6d6f445de7bc"
      },
      "execution_count": 72,
      "outputs": [
        {
          "output_type": "execute_result",
          "data": {
            "text/plain": [
              "             Date        Open        High         Low       Close   Adj Close  \\\n",
              "0      1962-01-02    7.374124    7.374124    7.291268    7.291268    1.652504   \n",
              "1      1962-01-03    7.291268    7.355003    7.291268    7.355003    1.666948   \n",
              "2      1962-01-04    7.355003    7.355003    7.278521    7.281708    1.650337   \n",
              "3      1962-01-05    7.272148    7.272148    7.125558    7.138305    1.617836   \n",
              "4      1962-01-08    7.131931    7.131931    6.947100    7.004461    1.587500   \n",
              "...           ...         ...         ...         ...         ...         ...   \n",
              "15278  2022-09-12  130.330002  130.990005  129.889999  130.660004  130.660004   \n",
              "15279  2022-09-13  129.139999  129.910004  126.769997  127.250000  127.250000   \n",
              "15280  2022-09-14  127.500000  129.000000  126.849998  127.690002  127.690002   \n",
              "15281  2022-09-15  127.389999  127.470001  124.900002  125.489998  125.489998   \n",
              "15282  2022-09-16  124.360001  127.529999  123.830002  127.269997  127.269997   \n",
              "\n",
              "        Volume  \n",
              "0       407940  \n",
              "1       305955  \n",
              "2       274575  \n",
              "3       384405  \n",
              "4       572685  \n",
              "...        ...  \n",
              "15278  3741100  \n",
              "15279  4565600  \n",
              "15280  3819100  \n",
              "15281  5141700  \n",
              "15282  9838600  \n",
              "\n",
              "[15283 rows x 7 columns]"
            ],
            "text/html": [
              "\n",
              "  <div id=\"df-202401b7-f794-4431-83d0-668acf75a54f\">\n",
              "    <div class=\"colab-df-container\">\n",
              "      <div>\n",
              "<style scoped>\n",
              "    .dataframe tbody tr th:only-of-type {\n",
              "        vertical-align: middle;\n",
              "    }\n",
              "\n",
              "    .dataframe tbody tr th {\n",
              "        vertical-align: top;\n",
              "    }\n",
              "\n",
              "    .dataframe thead th {\n",
              "        text-align: right;\n",
              "    }\n",
              "</style>\n",
              "<table border=\"1\" class=\"dataframe\">\n",
              "  <thead>\n",
              "    <tr style=\"text-align: right;\">\n",
              "      <th></th>\n",
              "      <th>Date</th>\n",
              "      <th>Open</th>\n",
              "      <th>High</th>\n",
              "      <th>Low</th>\n",
              "      <th>Close</th>\n",
              "      <th>Adj Close</th>\n",
              "      <th>Volume</th>\n",
              "    </tr>\n",
              "  </thead>\n",
              "  <tbody>\n",
              "    <tr>\n",
              "      <th>0</th>\n",
              "      <td>1962-01-02</td>\n",
              "      <td>7.374124</td>\n",
              "      <td>7.374124</td>\n",
              "      <td>7.291268</td>\n",
              "      <td>7.291268</td>\n",
              "      <td>1.652504</td>\n",
              "      <td>407940</td>\n",
              "    </tr>\n",
              "    <tr>\n",
              "      <th>1</th>\n",
              "      <td>1962-01-03</td>\n",
              "      <td>7.291268</td>\n",
              "      <td>7.355003</td>\n",
              "      <td>7.291268</td>\n",
              "      <td>7.355003</td>\n",
              "      <td>1.666948</td>\n",
              "      <td>305955</td>\n",
              "    </tr>\n",
              "    <tr>\n",
              "      <th>2</th>\n",
              "      <td>1962-01-04</td>\n",
              "      <td>7.355003</td>\n",
              "      <td>7.355003</td>\n",
              "      <td>7.278521</td>\n",
              "      <td>7.281708</td>\n",
              "      <td>1.650337</td>\n",
              "      <td>274575</td>\n",
              "    </tr>\n",
              "    <tr>\n",
              "      <th>3</th>\n",
              "      <td>1962-01-05</td>\n",
              "      <td>7.272148</td>\n",
              "      <td>7.272148</td>\n",
              "      <td>7.125558</td>\n",
              "      <td>7.138305</td>\n",
              "      <td>1.617836</td>\n",
              "      <td>384405</td>\n",
              "    </tr>\n",
              "    <tr>\n",
              "      <th>4</th>\n",
              "      <td>1962-01-08</td>\n",
              "      <td>7.131931</td>\n",
              "      <td>7.131931</td>\n",
              "      <td>6.947100</td>\n",
              "      <td>7.004461</td>\n",
              "      <td>1.587500</td>\n",
              "      <td>572685</td>\n",
              "    </tr>\n",
              "    <tr>\n",
              "      <th>...</th>\n",
              "      <td>...</td>\n",
              "      <td>...</td>\n",
              "      <td>...</td>\n",
              "      <td>...</td>\n",
              "      <td>...</td>\n",
              "      <td>...</td>\n",
              "      <td>...</td>\n",
              "    </tr>\n",
              "    <tr>\n",
              "      <th>15278</th>\n",
              "      <td>2022-09-12</td>\n",
              "      <td>130.330002</td>\n",
              "      <td>130.990005</td>\n",
              "      <td>129.889999</td>\n",
              "      <td>130.660004</td>\n",
              "      <td>130.660004</td>\n",
              "      <td>3741100</td>\n",
              "    </tr>\n",
              "    <tr>\n",
              "      <th>15279</th>\n",
              "      <td>2022-09-13</td>\n",
              "      <td>129.139999</td>\n",
              "      <td>129.910004</td>\n",
              "      <td>126.769997</td>\n",
              "      <td>127.250000</td>\n",
              "      <td>127.250000</td>\n",
              "      <td>4565600</td>\n",
              "    </tr>\n",
              "    <tr>\n",
              "      <th>15280</th>\n",
              "      <td>2022-09-14</td>\n",
              "      <td>127.500000</td>\n",
              "      <td>129.000000</td>\n",
              "      <td>126.849998</td>\n",
              "      <td>127.690002</td>\n",
              "      <td>127.690002</td>\n",
              "      <td>3819100</td>\n",
              "    </tr>\n",
              "    <tr>\n",
              "      <th>15281</th>\n",
              "      <td>2022-09-15</td>\n",
              "      <td>127.389999</td>\n",
              "      <td>127.470001</td>\n",
              "      <td>124.900002</td>\n",
              "      <td>125.489998</td>\n",
              "      <td>125.489998</td>\n",
              "      <td>5141700</td>\n",
              "    </tr>\n",
              "    <tr>\n",
              "      <th>15282</th>\n",
              "      <td>2022-09-16</td>\n",
              "      <td>124.360001</td>\n",
              "      <td>127.529999</td>\n",
              "      <td>123.830002</td>\n",
              "      <td>127.269997</td>\n",
              "      <td>127.269997</td>\n",
              "      <td>9838600</td>\n",
              "    </tr>\n",
              "  </tbody>\n",
              "</table>\n",
              "<p>15283 rows × 7 columns</p>\n",
              "</div>\n",
              "      <button class=\"colab-df-convert\" onclick=\"convertToInteractive('df-202401b7-f794-4431-83d0-668acf75a54f')\"\n",
              "              title=\"Convert this dataframe to an interactive table.\"\n",
              "              style=\"display:none;\">\n",
              "        \n",
              "  <svg xmlns=\"http://www.w3.org/2000/svg\" height=\"24px\"viewBox=\"0 0 24 24\"\n",
              "       width=\"24px\">\n",
              "    <path d=\"M0 0h24v24H0V0z\" fill=\"none\"/>\n",
              "    <path d=\"M18.56 5.44l.94 2.06.94-2.06 2.06-.94-2.06-.94-.94-2.06-.94 2.06-2.06.94zm-11 1L8.5 8.5l.94-2.06 2.06-.94-2.06-.94L8.5 2.5l-.94 2.06-2.06.94zm10 10l.94 2.06.94-2.06 2.06-.94-2.06-.94-.94-2.06-.94 2.06-2.06.94z\"/><path d=\"M17.41 7.96l-1.37-1.37c-.4-.4-.92-.59-1.43-.59-.52 0-1.04.2-1.43.59L10.3 9.45l-7.72 7.72c-.78.78-.78 2.05 0 2.83L4 21.41c.39.39.9.59 1.41.59.51 0 1.02-.2 1.41-.59l7.78-7.78 2.81-2.81c.8-.78.8-2.07 0-2.86zM5.41 20L4 18.59l7.72-7.72 1.47 1.35L5.41 20z\"/>\n",
              "  </svg>\n",
              "      </button>\n",
              "      \n",
              "  <style>\n",
              "    .colab-df-container {\n",
              "      display:flex;\n",
              "      flex-wrap:wrap;\n",
              "      gap: 12px;\n",
              "    }\n",
              "\n",
              "    .colab-df-convert {\n",
              "      background-color: #E8F0FE;\n",
              "      border: none;\n",
              "      border-radius: 50%;\n",
              "      cursor: pointer;\n",
              "      display: none;\n",
              "      fill: #1967D2;\n",
              "      height: 32px;\n",
              "      padding: 0 0 0 0;\n",
              "      width: 32px;\n",
              "    }\n",
              "\n",
              "    .colab-df-convert:hover {\n",
              "      background-color: #E2EBFA;\n",
              "      box-shadow: 0px 1px 2px rgba(60, 64, 67, 0.3), 0px 1px 3px 1px rgba(60, 64, 67, 0.15);\n",
              "      fill: #174EA6;\n",
              "    }\n",
              "\n",
              "    [theme=dark] .colab-df-convert {\n",
              "      background-color: #3B4455;\n",
              "      fill: #D2E3FC;\n",
              "    }\n",
              "\n",
              "    [theme=dark] .colab-df-convert:hover {\n",
              "      background-color: #434B5C;\n",
              "      box-shadow: 0px 1px 3px 1px rgba(0, 0, 0, 0.15);\n",
              "      filter: drop-shadow(0px 1px 2px rgba(0, 0, 0, 0.3));\n",
              "      fill: #FFFFFF;\n",
              "    }\n",
              "  </style>\n",
              "\n",
              "      <script>\n",
              "        const buttonEl =\n",
              "          document.querySelector('#df-202401b7-f794-4431-83d0-668acf75a54f button.colab-df-convert');\n",
              "        buttonEl.style.display =\n",
              "          google.colab.kernel.accessAllowed ? 'block' : 'none';\n",
              "\n",
              "        async function convertToInteractive(key) {\n",
              "          const element = document.querySelector('#df-202401b7-f794-4431-83d0-668acf75a54f');\n",
              "          const dataTable =\n",
              "            await google.colab.kernel.invokeFunction('convertToInteractive',\n",
              "                                                     [key], {});\n",
              "          if (!dataTable) return;\n",
              "\n",
              "          const docLinkHtml = 'Like what you see? Visit the ' +\n",
              "            '<a target=\"_blank\" href=https://colab.research.google.com/notebooks/data_table.ipynb>data table notebook</a>'\n",
              "            + ' to learn more about interactive tables.';\n",
              "          element.innerHTML = '';\n",
              "          dataTable['output_type'] = 'display_data';\n",
              "          await google.colab.output.renderOutput(dataTable, element);\n",
              "          const docLink = document.createElement('div');\n",
              "          docLink.innerHTML = docLinkHtml;\n",
              "          element.appendChild(docLink);\n",
              "        }\n",
              "      </script>\n",
              "    </div>\n",
              "  </div>\n",
              "  "
            ]
          },
          "metadata": {},
          "execution_count": 72
        }
      ]
    },
    {
      "cell_type": "markdown",
      "source": [
        "Dataset iambil dari yahoo finance dengan nama saham IBM (https://finance.yahoo.com/quote/IBM/history?period1=-252374400&period2=1663459200&interval=1d&filter=history&frequency=1d&includeAdjustedClose=true)"
      ],
      "metadata": {
        "id": "BCWlfw8GcB3G"
      }
    },
    {
      "cell_type": "code",
      "source": [
        "df.info()"
      ],
      "metadata": {
        "colab": {
          "base_uri": "https://localhost:8080/"
        },
        "id": "jAWX3kFXHEnU",
        "outputId": "d7ebc8a6-771f-4145-a090-270dfbec2f2c"
      },
      "execution_count": 73,
      "outputs": [
        {
          "output_type": "stream",
          "name": "stdout",
          "text": [
            "<class 'pandas.core.frame.DataFrame'>\n",
            "RangeIndex: 15283 entries, 0 to 15282\n",
            "Data columns (total 7 columns):\n",
            " #   Column     Non-Null Count  Dtype  \n",
            "---  ------     --------------  -----  \n",
            " 0   Date       15283 non-null  object \n",
            " 1   Open       15283 non-null  float64\n",
            " 2   High       15283 non-null  float64\n",
            " 3   Low        15283 non-null  float64\n",
            " 4   Close      15283 non-null  float64\n",
            " 5   Adj Close  15283 non-null  float64\n",
            " 6   Volume     15283 non-null  int64  \n",
            "dtypes: float64(5), int64(1), object(1)\n",
            "memory usage: 835.9+ KB\n"
          ]
        }
      ]
    },
    {
      "cell_type": "code",
      "source": [
        "threshold_mae = (df['Adj Close'].max() - df['Adj Close'].min()) * 10/100\n",
        "threshold_mae"
      ],
      "metadata": {
        "colab": {
          "base_uri": "https://localhost:8080/"
        },
        "id": "uF59HtQDJTPj",
        "outputId": "73482e0f-f44e-48c6-c4ae-84ca80cba4f5"
      },
      "execution_count": 74,
      "outputs": [
        {
          "output_type": "execute_result",
          "data": {
            "text/plain": [
              "14.0990372"
            ]
          },
          "metadata": {},
          "execution_count": 74
        }
      ]
    },
    {
      "cell_type": "markdown",
      "source": [
        "Block diatas bertujuan untuk melihat threshold dari MAE untuk dapat mengkalkulasi persyaratan yang diberikan"
      ],
      "metadata": {
        "id": "S6EuZh1zcPXU"
      }
    },
    {
      "cell_type": "code",
      "source": [
        "df['Date'] = pd.to_datetime(df['Date']).dt.date\n",
        "dates      = df['Date'].values\n",
        "close      = df['Adj Close'].values\n",
        " \n",
        "plt.figure(figsize=(15,5))\n",
        "plt.plot(dates,close)\n",
        "plt.title('IBM Stock Historical Prices',\n",
        "          fontsize=20);"
      ],
      "metadata": {
        "colab": {
          "base_uri": "https://localhost:8080/",
          "height": 326
        },
        "id": "N4BYIScoHJdV",
        "outputId": "94cec368-0b88-4abc-9b86-4d66135fcf14"
      },
      "execution_count": 88,
      "outputs": [
        {
          "output_type": "display_data",
          "data": {
            "text/plain": [
              "<Figure size 1080x360 with 1 Axes>"
            ],
            "image/png": "[encoded data removed]"
          },
          "metadata": {
            "needs_background": "light"
          }
        }
      ]
    },
    {
      "cell_type": "code",
      "source": [
        "scaler = MinMaxScaler()\n",
        "\n",
        "close = np.reshape(close,(-1,1))\n",
        "close = scaler.fit_transform(close)\n",
        "\n",
        "plt.figure(figsize=(15,5))\n",
        "plt.plot(dates,close)\n",
        "plt.title('Apple Stock Historical Prices',\n",
        "          fontsize=20);\n",
        "\n",
        "close = np.reshape(close,(-1))"
      ],
      "metadata": {
        "colab": {
          "base_uri": "https://localhost:8080/",
          "height": 327
        },
        "id": "n4Xln-s0Ift0",
        "outputId": "9280b85a-1b21-4840-9508-b3ef76728b08"
      },
      "execution_count": 77,
      "outputs": [
        {
          "output_type": "display_data",
          "data": {
            "text/plain": [
              "<Figure size 1080x360 with 1 Axes>"
            ],
            "image/png": "[encoded data removed]"
          },
          "metadata": {
            "needs_background": "light"
          }
        }
      ]
    },
    {
      "cell_type": "markdown",
      "source": [
        "Block diatas bertujuan untuk menampilkan data saham dari kolom Adj Close (harga penutupan saham pada hari tersebut) yang telah di di scaling dalam rentang nilai 0-1."
      ],
      "metadata": {
        "id": "nZfWslhHcczg"
      }
    },
    {
      "cell_type": "code",
      "source": [
        "x_train, x_test, y_train, y_test = train_test_split(close, dates, test_size=0.2, shuffle=False)"
      ],
      "metadata": {
        "id": "W0AdnwvRJxEy"
      },
      "execution_count": 78,
      "outputs": []
    },
    {
      "cell_type": "code",
      "source": [
        "def windowed_dataset(series, window_size, batch_size, shuffle_buffer):\n",
        "    series = tf.expand_dims(series, axis=-1)\n",
        "    ds = tf.data.Dataset.from_tensor_slices(series)\n",
        "    ds = ds.window(window_size + 1, shift=1, drop_remainder=True)\n",
        "    ds = ds.flat_map(lambda w: w.batch(window_size + 1))\n",
        "    ds = ds.shuffle(shuffle_buffer)\n",
        "    ds = ds.map(lambda w: (w[:-1], w[-1:]))\n",
        "    return ds.batch(batch_size).prefetch(1)\n",
        "\n",
        "train_set = windowed_dataset(x_train, window_size=60, batch_size=100, shuffle_buffer=1000)\n",
        "test_set = windowed_dataset(x_test, window_size=60, batch_size=100, shuffle_buffer=1000)"
      ],
      "metadata": {
        "id": "4MLn5xwAIfNy"
      },
      "execution_count": 79,
      "outputs": []
    },
    {
      "cell_type": "markdown",
      "source": [
        "Block diatas bertujuan untuk membuat data training dan testing dari dataset saham yang dipilih."
      ],
      "metadata": {
        "id": "4XD99Pkycxc0"
      }
    },
    {
      "cell_type": "code",
      "source": [
        "model = tf.keras.models.Sequential([\n",
        "  tf.keras.layers.LSTM(60, return_sequences=True),\n",
        "  tf.keras.layers.LSTM(60),\n",
        "  tf.keras.layers.Dense(30, activation=\"relu\"),\n",
        "  tf.keras.layers.Dense(10, activation=\"relu\"),\n",
        "  tf.keras.layers.Dense(1),\n",
        "])\n",
        "optimizer = tf.keras.optimizers.SGD(learning_rate=1.0000e-04, momentum=0.9)\n",
        "model.compile(loss=tf.keras.losses.Huber(),\n",
        "              optimizer=optimizer,\n",
        "              metrics=[\"mae\"])"
      ],
      "metadata": {
        "id": "CAaU-nBDKe_u"
      },
      "execution_count": 82,
      "outputs": []
    },
    {
      "cell_type": "markdown",
      "source": [
        "Model yang dibuat mengikuti materi yang diberikan pada Dicoding."
      ],
      "metadata": {
        "id": "D8LSxbw8c7Jm"
      }
    },
    {
      "cell_type": "code",
      "source": [
        "history = model.fit(train_set,epochs=10, validation_data=test_set, verbose=2)"
      ],
      "metadata": {
        "colab": {
          "base_uri": "https://localhost:8080/"
        },
        "id": "pyBfzAIaKiS6",
        "outputId": "74aac730-16ad-46f8-a83f-e42c874902f5"
      },
      "execution_count": 84,
      "outputs": [
        {
          "output_type": "stream",
          "name": "stdout",
          "text": [
            "Epoch 1/10\n",
            "122/122 - 19s - loss: 0.0160 - mae: 0.1137 - val_loss: 0.2477 - val_mae: 0.6998 - 19s/epoch - 152ms/step\n",
            "Epoch 2/10\n",
            "122/122 - 14s - loss: 0.0126 - mae: 0.0977 - val_loss: 0.2229 - val_mae: 0.6635 - 14s/epoch - 118ms/step\n",
            "Epoch 3/10\n",
            "122/122 - 15s - loss: 0.0110 - mae: 0.0981 - val_loss: 0.2059 - val_mae: 0.6375 - 15s/epoch - 120ms/step\n",
            "Epoch 4/10\n",
            "122/122 - 15s - loss: 0.0103 - mae: 0.1026 - val_loss: 0.1940 - val_mae: 0.6185 - 15s/epoch - 119ms/step\n",
            "Epoch 5/10\n",
            "122/122 - 14s - loss: 0.0099 - mae: 0.1064 - val_loss: 0.1852 - val_mae: 0.6042 - 14s/epoch - 118ms/step\n",
            "Epoch 6/10\n",
            "122/122 - 14s - loss: 0.0096 - mae: 0.1088 - val_loss: 0.1785 - val_mae: 0.5930 - 14s/epoch - 118ms/step\n",
            "Epoch 7/10\n",
            "122/122 - 15s - loss: 0.0095 - mae: 0.1103 - val_loss: 0.1733 - val_mae: 0.5842 - 15s/epoch - 120ms/step\n",
            "Epoch 8/10\n",
            "122/122 - 15s - loss: 0.0093 - mae: 0.1111 - val_loss: 0.1691 - val_mae: 0.5770 - 15s/epoch - 123ms/step\n",
            "Epoch 9/10\n",
            "122/122 - 14s - loss: 0.0092 - mae: 0.1114 - val_loss: 0.1655 - val_mae: 0.5708 - 14s/epoch - 118ms/step\n",
            "Epoch 10/10\n",
            "122/122 - 14s - loss: 0.0091 - mae: 0.1114 - val_loss: 0.1624 - val_mae: 0.5654 - 14s/epoch - 118ms/step\n"
          ]
        }
      ]
    },
    {
      "cell_type": "markdown",
      "source": [
        "Terdapat perbedaan yang mencolok jika dataset menggunakan MinMaxScaler dan yang tidak menggunakan. Dataset yang menggunakan MinMixScaler cenderung memiliki selisih nilai MAE dan Validation MAE yang sangat kecil, berbanding terbalik jika tidak menggunakan MinMixScaler yang memiliki nilai selisih sampai 60 point. Hal tersebutlah yang menjadi alasan mengapa dalam script ini menggunakan MinMaxScaler."
      ],
      "metadata": {
        "id": "QKWnFjzAdCfz"
      }
    },
    {
      "cell_type": "code",
      "source": [
        "print(history.history.keys())"
      ],
      "metadata": {
        "colab": {
          "base_uri": "https://localhost:8080/"
        },
        "id": "eSVs3nOGTeum",
        "outputId": "6cbe1847-c2dd-475a-8458-bcbc5321eba1"
      },
      "execution_count": 67,
      "outputs": [
        {
          "output_type": "stream",
          "name": "stdout",
          "text": [
            "dict_keys(['loss', 'mae', 'val_loss', 'val_mae'])\n"
          ]
        }
      ]
    },
    {
      "cell_type": "code",
      "source": [
        "# Grafik Accuracy dan Validation Accuracy\n",
        "plt.plot(history.history['mae'])\n",
        "plt.plot(history.history['val_mae'])\n",
        "plt.title('Model Accuracy')\n",
        "plt.ylabel('MAE')\n",
        "plt.xlabel('Epoch')\n",
        "plt.legend(['Train', 'Test'], loc='upper left')\n",
        "plt.show()\n",
        "\n",
        "# Grafik Accuracy dan Validation Accuracy\n",
        "plt.plot(history.history['loss'])\n",
        "plt.plot(history.history['val_loss'])\n",
        "plt.title('Model Loss')\n",
        "plt.ylabel('Loss')\n",
        "plt.xlabel('Epoch')\n",
        "plt.legend(['Train', 'Test'], loc='upper left')\n",
        "plt.show()"
      ],
      "metadata": {
        "colab": {
          "base_uri": "https://localhost:8080/",
          "height": 573
        },
        "id": "87xGmshgOpTq",
        "outputId": "eaf899bd-b577-47e3-f6de-0220efdcdb58"
      },
      "execution_count": 86,
      "outputs": [
        {
          "output_type": "display_data",
          "data": {
            "text/plain": [
              "<Figure size 432x288 with 1 Axes>"
            ],
            "image/png": "[encoded data removed]"
          },
          "metadata": {
            "needs_background": "light"
          }
        },
        {
          "output_type": "display_data",
          "data": {
            "text/plain": [
              "<Figure size 432x288 with 1 Axes>"
            ],
            "image/png": "[encoded data removed]"
          },
          "metadata": {
            "needs_background": "light"
          }
        }
      ]
    },
    {
      "cell_type": "markdown",
      "source": [
        "Nilai MAE dan Loss pada train dan test cenderung memiliki grafik yang sama. "
      ],
      "metadata": {
        "id": "4GNJEB-Rdv-F"
      }
    }
  ]
}